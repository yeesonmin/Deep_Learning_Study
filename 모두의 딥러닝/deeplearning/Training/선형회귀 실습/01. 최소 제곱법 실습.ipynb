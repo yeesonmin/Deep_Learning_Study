{
 "cells": [
  {
   "cell_type": "code",
   "execution_count": 1,
   "metadata": {},
   "outputs": [
    {
     "name": "stdout",
     "output_type": "stream",
     "text": [
      "x평균 :  5.0\n",
      "y평균 :  90.5\n",
      "기울기를 구하는 분모 :  20.0\n",
      "기울기를 구하는 분자 :  46.0\n",
      "기울기 :  2.3\n",
      "y절편 :  79.0\n"
     ]
    }
   ],
   "source": [
    "##### 최소 제곱법 #####\n",
    "\"\"\"\n",
    "x가 하나일 때 적용\n",
    "주어진 데이터를 가지고 일차함수를 구하는 것.\n",
    "\n",
    "기울기 a = (x - x평균)(y - y평균)의 합 / (x - x평균)^2 의 합\n",
    "y절편 b = y평균 - (x평균 * 기울기 a)\n",
    "\"\"\"\n",
    "\n",
    "# 공부시간에 따른 예상 점수\n",
    "#\n",
    "# 데이터 추가\n",
    "import numpy as np\n",
    "x = [2,4,6,8]\n",
    "y = [81,93,91,97]\n",
    "\n",
    "#평균 구하기\n",
    "mx = np.mean(x)\n",
    "my = np.mean(y)\n",
    "\n",
    "#기울기의 분모 구하기\n",
    "apa = sum([(i - mx)**2 for i in x])\n",
    "\n",
    "#기울기의 분자 구하기\n",
    "## 분자 값을 만드는 함수를 만듦.\n",
    "def top(x, mx, y, my):\n",
    "    d = 0\n",
    "    for i in range(len(x)):\n",
    "        d += (x[i] - mx)*(y[i] - my)\n",
    "    return d\n",
    "\n",
    "ach = top(x,mx,y,my)\n",
    "\n",
    "#기울기 구하기\n",
    "a = ach/apa\n",
    "\n",
    "#y절편 구하기\n",
    "b = my - (mx * a)\n",
    "\n",
    "#결과\n",
    "print(\"x평균 : \", mx)\n",
    "print(\"y평균 : \", my)\n",
    "print(\"기울기를 구하는 분모 : \", apa)\n",
    "print(\"기울기를 구하는 분자 : \", ach)\n",
    "print(\"기울기 : \", a)\n",
    "print(\"y절편 : \", b)\n"
   ]
  },
  {
   "cell_type": "code",
   "execution_count": null,
   "metadata": {},
   "outputs": [],
   "source": []
  }
 ],
 "metadata": {
  "kernelspec": {
   "display_name": "Python 3",
   "language": "python",
   "name": "python3"
  },
  "language_info": {
   "codemirror_mode": {
    "name": "ipython",
    "version": 3
   },
   "file_extension": ".py",
   "mimetype": "text/x-python",
   "name": "python",
   "nbconvert_exporter": "python",
   "pygments_lexer": "ipython3",
   "version": "3.7.4"
  }
 },
 "nbformat": 4,
 "nbformat_minor": 2
}
