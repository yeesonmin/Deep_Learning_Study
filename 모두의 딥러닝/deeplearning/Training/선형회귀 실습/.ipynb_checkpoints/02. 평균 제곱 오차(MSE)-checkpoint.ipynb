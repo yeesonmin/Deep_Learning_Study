{
 "cells": [
  {
   "cell_type": "code",
   "execution_count": 5,
   "metadata": {},
   "outputs": [
    {
     "name": "stdout",
     "output_type": "stream",
     "text": [
      "공부시간 = 2, 실제 점수 = 81, 예측 점수 = 82\n",
      "공부시간 = 4, 실제 점수 = 93, 예측 점수 = 88\n",
      "공부시간 = 6, 실제 점수 = 91, 예측 점수 = 94\n",
      "공부시간 = 8, 실제 점수 = 97, 예측 점수 = 100\n",
      "MSE =  11.0\n"
     ]
    }
   ],
   "source": [
    "##### 평균 제곱 오차(MSE) #####\n",
    "\"\"\"\n",
    "x가 여러개 일 떄 적용\n",
    "임의의 직선을 그어서 오차를 평가하는 것.\n",
    "\n",
    "오차의 합 = (예측 값 - 실제 값)^2의 합\n",
    "평균 제곱 오차 =  (예측 값 - 실제 값)^2의 합 / n\n",
    "\"\"\"\n",
    "\n",
    "# 공부시간에 따른 예상 점수\n",
    "#\n",
    "#데이터 추가\n",
    "import numpy as np\n",
    "#임의의 기울기와 y절편\n",
    "fake_a_b = [3,76]\n",
    "\n",
    "data = [[2,81],[4,93],[6,91],[8,97]]\n",
    "x = [i[0] for i in data]\n",
    "y = [i[1] for i in data]\n",
    "\n",
    "#예측 직선 구하기\n",
    "def predict(x):\n",
    "    return fake_a_b[0]*x + fake_a_b[1]\n",
    "\n",
    "#MSE\n",
    "def mse(pre_y,y):\n",
    "    return (((pre_y - y)**2).mean())\n",
    "\n",
    "#결과\n",
    "\n",
    "predict_result = []\n",
    "for i in range(len(x)):\n",
    "    #예측값 저장\n",
    "    predict_result.append(predict(x[i]))\n",
    "    print(\"공부시간 = %.f, 실제 점수 = %.f, 예측 점수 = %.f\" % (x[i],y[i],predict(x[i])))\n",
    "   \n",
    "\n",
    "# MSE 결과\n",
    "print(\"MSE = \", mse(np.array(predict_result), np.array(y)))\n",
    "\n"
   ]
  },
  {
   "cell_type": "code",
   "execution_count": null,
   "metadata": {},
   "outputs": [],
   "source": []
  }
 ],
 "metadata": {
  "kernelspec": {
   "display_name": "Python 3",
   "language": "python",
   "name": "python3"
  },
  "language_info": {
   "codemirror_mode": {
    "name": "ipython",
    "version": 3
   },
   "file_extension": ".py",
   "mimetype": "text/x-python",
   "name": "python",
   "nbconvert_exporter": "python",
   "pygments_lexer": "ipython3",
   "version": "3.7.4"
  }
 },
 "nbformat": 4,
 "nbformat_minor": 2
}
