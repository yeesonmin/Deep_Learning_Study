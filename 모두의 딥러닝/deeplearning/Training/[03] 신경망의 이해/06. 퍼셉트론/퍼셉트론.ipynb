{
 "cells": [
  {
   "cell_type": "code",
   "execution_count": null,
   "metadata": {},
   "outputs": [],
   "source": [
    "##### 퍼셉트론 #####\n",
    "\"\"\"\n",
    "신경망의 최소 단위\n",
    "\n",
    "기울기 a = 가중치 w\n",
    "y절편 b = 바이어스 b\n",
    "가중합 : 모든 a * x의 합 + b\n",
    "0,1 판단 : 활성화 함수(시그모이드 함수)\n",
    "\n",
    "퍼셉트론으로는 xor문제 해결 못 함.\n",
    "\"\"\""
   ]
  }
 ],
 "metadata": {
  "kernelspec": {
   "display_name": "Python 3",
   "language": "python",
   "name": "python3"
  },
  "language_info": {
   "codemirror_mode": {
    "name": "ipython",
    "version": 3
   },
   "file_extension": ".py",
   "mimetype": "text/x-python",
   "name": "python",
   "nbconvert_exporter": "python",
   "pygments_lexer": "ipython3",
   "version": "3.7.4"
  }
 },
 "nbformat": 4,
 "nbformat_minor": 2
}
