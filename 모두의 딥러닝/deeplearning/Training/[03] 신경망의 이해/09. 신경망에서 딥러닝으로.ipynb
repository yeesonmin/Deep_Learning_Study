{
 "cells": [
  {
   "cell_type": "code",
   "execution_count": null,
   "metadata": {},
   "outputs": [],
   "source": [
    "\"\"\"\n",
    "층이 늘어날 수록\n",
    "역전파를 통해\n",
    "기울기 손실이 발생 (시그모이드 함수 때문에)\n",
    "\n",
    "이를 개선한 렐루 함수가 딥러닝 발전에 도움을 줌\n",
    "\n",
    "\n",
    "#확률적 경사 하강법\n",
    "경사 하강법은 계산량이 많아 느리다.\n",
    "이를 해결한 확률적 경사 하강법이 있다.\n",
    "\n",
    "#모멘텀\n",
    "경사 하강법에 탄력을 더하는 것으로\n",
    "앞 수정값과 방향을 참고해 같은 방향으로 일정한 비율로 수정\n",
    "결과적으로 방향이 지그재그로 일어나는 현상을 줄어 속도가 빠름.\n",
    "\n",
    "#아담\n",
    "현재 많이 사용하고 있는 고급경사하강법\n",
    "\"\"\""
   ]
  }
 ],
 "metadata": {
  "kernelspec": {
   "display_name": "Python 3",
   "language": "python",
   "name": "python3"
  },
  "language_info": {
   "codemirror_mode": {
    "name": "ipython",
    "version": 3
   },
   "file_extension": ".py",
   "mimetype": "text/x-python",
   "name": "python",
   "nbconvert_exporter": "python",
   "pygments_lexer": "ipython3",
   "version": "3.7.4"
  }
 },
 "nbformat": 4,
 "nbformat_minor": 2
}
