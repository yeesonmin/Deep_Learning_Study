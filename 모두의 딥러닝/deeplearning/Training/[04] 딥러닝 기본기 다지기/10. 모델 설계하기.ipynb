{
 "cells": [
  {
   "cell_type": "code",
   "execution_count": null,
   "metadata": {},
   "outputs": [],
   "source": [
    "\"\"\"\n",
    "코드분석\n",
    "\"\"\"\n",
    "\n",
    "# -*- coding: utf-8 -*-\n",
    "# 코드 내부에 한글을 사용가능 하게 해주는 부분입니다.\n",
    "\n",
    "# 딥러닝을 구동하는 데 필요한 케라스 함수를 불러옵니다.\n",
    "from tensorflow.keras.models import Sequential\n",
    "from tensorflow.keras.layers import Dense\n",
    "\n",
    "# 필요한 라이브러리를 불러옵니다.\n",
    "import numpy as np\n",
    "import tensorflow as tf\n",
    "\n",
    "# 실행할 때마다 같은 결과를 출력하기 위해 설정하는 부분입니다.\n",
    "np.random.seed(3)\n",
    "tf.random.set_seed(3)\n",
    "\n",
    "# 준비된 수술 환자 데이터를 불러들입니다.\n",
    "Data_set = np.loadtxt(\"../dataset/ThoraricSurgery.csv\", delimiter=\",\")\n",
    "\n",
    "# 환자의 기록과 수술 결과를 X와 Y로 구분하여 저장합니다.\n",
    "X = Data_set[:,0:17]\n",
    "Y = Data_set[:,17]\n",
    "\n",
    "# 딥러닝 구조를 결정합니다(모델을 설정하고 실행하는 부분입니다).=====> 입력층, 은닉층, 출력층으로 구성\n",
    "model = Sequential()\n",
    "model.add(Dense(30, input_dim=17, activation='relu')) # 30 : 노드 수, 입력 및 은닉층 구조, 렐루 함수 활성화\n",
    "model.add(Dense(1, activation='sigmoid')) # 출력층 구조, 시그모이드 함수 활성화\n",
    "\n",
    "# 딥러닝을 실행합니다.\n",
    "model.compile(loss='mean_squared_error', optimizer='adam', metrics=['accuracy'])\n",
    "# mean_squared_error : MSE 다른 것으로 변경 가능\n",
    "# adam : 고급 경사 하강법 중 한가지 마찬가지로 다른 것으로 변경가능\n",
    "# metrics함수는 결과를 나타나게 하는 함수\n",
    "\n",
    "model.fit(X, Y, epochs=100, batch_size=10) \n",
    "# 실행 함수\n",
    "#epochs 실행반복\n",
    "#batch_size 한 번에 몇 개씩 처리하는 부분으로 컴퓨터 사양에 맞게 설정할 것.\n"
   ]
  }
 ],
 "metadata": {
  "kernelspec": {
   "display_name": "Python 3",
   "language": "python",
   "name": "python3"
  },
  "language_info": {
   "codemirror_mode": {
    "name": "ipython",
    "version": 3
   },
   "file_extension": ".py",
   "mimetype": "text/x-python",
   "name": "python",
   "nbconvert_exporter": "python",
   "pygments_lexer": "ipython3",
   "version": "3.7.4"
  }
 },
 "nbformat": 4,
 "nbformat_minor": 2
}
